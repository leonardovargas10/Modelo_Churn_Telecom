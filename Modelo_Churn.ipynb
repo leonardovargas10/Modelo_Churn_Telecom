{
 "cells": [
  {
   "attachments": {},
   "cell_type": "markdown",
   "metadata": {},
   "source": [
    "<h1 style='color: blue; font-size: 34px; font-weight: bold;'> Projetos de Data Science\n",
    "</h1>\n",
    "\n",
    "<p style='font-size: 18px; line-height: 2; margin: 0px 0px; text-align: justify; text-indent: 0px;'>    \n",
    "<i> Este Notebook concentra a descrição do Projeto de Análise de Churn para a empresa Telco.  </i> \n",
    "</p>  "
   ]
  },
  {
   "attachments": {},
   "cell_type": "markdown",
   "metadata": {},
   "source": [
    "# <font color='red' style='font-size: 40px;'> Consultas </font>\n",
    "<hr style='border: 2px solid red;'>\n",
    "\n",
    "> CONSULTAR:\n",
    "\n",
    "https://www.kaggle.com/datasets/datacertlaboratoria/projeto-5\n",
    "\n",
    "https://www.kaggle.com/code/datacertlaboratoria/guia-de-resolu-o-projeto-5"
   ]
  },
  {
   "attachments": {},
   "cell_type": "markdown",
   "metadata": {},
   "source": [
    "# <font color='red' style='font-size: 40px;'> Problemática </font>\n",
    "<hr style='border: 2px solid red;'>\n",
    "\n",
    "<p style='font-size: 18px; line-height: 2; margin: 0px 0px; text-align: justify; text-indent: 0px;'>    \n",
    "<i> TELCO é uma empresa jovem e com muito potencial, cujas filiais estão localizadas em 1.106 cidades do estado da Califórnia, Estados Unidos.  </i> \n",
    "</p>  \n",
    "\n",
    "<p style='font-size: 18px; line-height: 2; margin: 0px 0px; text-align: justify; text-indent: 0px;'>    \n",
    "<i> A CEO da empresa queria entender como diminuir a perda de clientes na TELCO, portanto, durante as apresentações, um dos Diretores disse as seguintes hipóteses: \n",
    "\n",
    "    1. A perda de clientes na TELCO se deve ao aumento da concorrência. Há cada vez mais concorrentes no mercado, principalmente na região de San Diego, o que nos faz perder mais clientes lá do que em outros lugares.\n",
    "\n",
    "    2. O problema são os contratos mensais. Se pudéssemos migrar todos os nossos clientes para contratos mais longos, todos os nossos problemas seriam resolvidos.\n",
    "\n",
    " </i> \n",
    "</p>  \n",
    "\n",
    "<p style='font-size: 18px; line-height: 2; margin: 0px 0px; text-align: justify; text-indent: 0px;'>    \n",
    "<i> Após ouvir as declarações do Diretor, a CEO disse: “É claro para mim que os contratos mês a mês são mais propensos à perda do que os outros, mas como sabemos se esse efeito é o mesmo para todas as idades, ou se é o mesmo para os clientes com mais ou menos antiguidade? Da mesma forma, um cliente que indicou muitos outros clientes tem menos probabilidade de sair, mas como sabemos se o efeito mês a mês é mais ou menos importante do que o número de referências de um cliente? Além disso, assumindo que a estratégia que você propõe acaba sendo a correta, ou seja, em geral buscamos movimentar os clientes para contratos mais longos, como priorizamos? Quem contatamos primeiro? Gostaria de fazer uma análise profunda da situação para entendê-la melhor.”\n",
    " </i> \n",
    "</p>  \n",
    "\n",
    "<p style='font-size: 18px; line-height: 2; margin: 0px 0px; text-align: justify; text-indent: 0px;'>    \n",
    "<i> Dado esta problemática, ficou acordado o desenvolvimento de um relatório analítico com o seguinte:\n",
    "\n",
    "    1. Uma visão geral da população de clientes TELCO. A CEO quer entender as características dos clientes TELCO. Qual é a divisão por sexo? Eles têm dependentes? idades? cidades? etc.\n",
    "\n",
    "    2. Uma exploração de perdas para entender melhor as suposições do Diretor sobre contratos mensais e a região de San Diego como a mais afetada. Algumas segmentações para entender a perda de clientes que saíram durante a reunião são:\n",
    "\n",
    "    - Grupo 1: Contrato mes-a-mes e idade > 64\n",
    "    - Grupo 2: Contrato mes-a-mes , idade < 64 e número de referências < 2\n",
    "    - Grupo 3: Contrato diferente de mes-a-mes, edad > 64 y número de referidos < 2\n",
    "    - Grupo 4: Contrato diferente a mes-a-mes e antiguidade em meses < 40\n",
    "\n",
    "    3. Uma análise de clientes em “alto risco” de abandono priorizada de acordo com o valor monetário estimado que representam para a TELCO. Aqui a ideia é que após identificar os fatores que estão relacionados a perda de clientes (com base nos clientes que já saíram), você possa identificar quais clientes, da base de clientes que a TELCO ainda tem (ou seja, clientes que não saíram), se eles seriam mais propensos a deixar a empresa. E a partir dessa base, identifique aqueles clientes que possuem um alto valor monetário para a TELCO. Em outras palavras, você deseja priorizar aqueles clientes que são: i) propensos a sair (não saíram, mas estariam em risco de sair) e ii) de alto valor monetário. Amalia quer a lista desses clientes.\n",
    " </i> \n",
    "</p>  \n"
   ]
  },
  {
   "cell_type": "markdown",
   "metadata": {},
   "source": [
    "# <font color='red' style='font-size: 40px;'> Bibliotecas Utilizadas </font>\n",
    "<hr style='border: 2px solid red;'>"
   ]
  },
  {
   "cell_type": "code",
   "execution_count": 1,
   "metadata": {},
   "outputs": [],
   "source": [
    "## Bibliotecas De Manipulação de Dados e Visualização\n",
    "\n",
    "import pandas as pd \n",
    "from pandasql import sqldf\n",
    "import matplotlib.pyplot as plt\n",
    "import seaborn as sns \n",
    "import plotly.express as px \n",
    "import plotly.graph_objects as go\n",
    "\n",
    "## Bibliotecas de Modelagem Matemática e Estatística\n",
    "import numpy as np\n",
    "import scipy as sp \n",
    "import statsmodels.api as sm\n",
    "import statsmodels.formula.api as smf\n",
    "\n",
    "# Bibliotecas de Manipulação de Tempo\n",
    "import time\n",
    "import datetime\n",
    "\n",
    "\n",
    "# Bibliotecas de Suporte\n",
    "import warnings\n",
    "import pyodbc\n",
    "\n",
    "\n",
    "\n",
    "# Parâmetros de Otimização\n",
    "%matplotlib inline\n",
    "sns.set()\n",
    "plt.rcParams['font.family'] = 'Arial'\n",
    "plt.rcParams['font.size'] = '14'\n",
    "plt.rcParams['figure.figsize'] = [10, 5]\n",
    "pd.set_option('display.max_rows', 100)\n",
    "pd.set_option('display.max_columns', 100)\n",
    "pd.set_option('display.float_format', lambda x: '%.2f' % x) # Tira os números do formato de Notação Científica\n",
    "np.set_printoptions(suppress=True) # Tira os números do formato de Notação Científica em Numpy Arrays\n",
    "warnings.filterwarnings('ignore')\n",
    "warnings.simplefilter(action='ignore', category=FutureWarning) # Retira Future Warnings"
   ]
  },
  {
   "cell_type": "markdown",
   "metadata": {},
   "source": [
    "# <font color='red' style='font-size: 40px;'> Conexão SQL Server </font>\n",
    "<hr style='border: 2px solid red;'>"
   ]
  },
  {
   "cell_type": "code",
   "execution_count": 2,
   "metadata": {},
   "outputs": [
    {
     "name": "stdout",
     "output_type": "stream",
     "text": [
      "Conexao Bem Sucedida\n"
     ]
    }
   ],
   "source": [
    "dados_conexao = (\n",
    "    'Driver={SQL Server};'\n",
    "    'Server=DESKTOP-A7BL36E;'\n",
    "    'Database=TELCO;'\n",
    ")\n",
    "\n",
    "conexao = pyodbc.connect(dados_conexao)\n",
    "print('Conexao Bem Sucedida')\n",
    "\n",
    "cursor = conexao.cursor()"
   ]
  },
  {
   "cell_type": "code",
   "execution_count": 3,
   "metadata": {},
   "outputs": [],
   "source": [
    "demographics = pd.read_sql('SELECT * FROM demographics', conexao)\n",
    "locations = pd.read_sql('SELECT * FROM locations', conexao)\n",
    "populations = pd.read_sql('SELECT * FROM populations', conexao)\n",
    "services = pd.read_sql('SELECT * FROM services', conexao)\n",
    "status = pd.read_sql('SELECT * FROM status', conexao)"
   ]
  },
  {
   "cell_type": "markdown",
   "metadata": {},
   "source": [
    "# <font color='red' style='font-size: 40px;'> Funções </font>\n",
    "<hr style='border: 2px solid red;'>"
   ]
  },
  {
   "cell_type": "code",
   "execution_count": null,
   "metadata": {},
   "outputs": [],
   "source": []
  },
  {
   "cell_type": "markdown",
   "metadata": {},
   "source": [
    "# <font color='red' style='font-size: 40px;'> 1.0 Entendimento das Bases de Dados </font>\n",
    "<hr style='border: 2px solid red;'>"
   ]
  },
  {
   "attachments": {},
   "cell_type": "markdown",
   "metadata": {},
   "source": [
    "## 1.1) DEMOGRAPHICS\n",
    "\n",
    "> 1. Customer ID: Um ID exclusivo que identifica cada cliente.\n",
    "\n",
    "> 2. Count: Um valor usado em relatórios para resumir o número de clientes em um conjunto filtrado.\n",
    "\n",
    "> 3. Gender: Sexo do cliente: Masculino, Feminino.\n",
    "\n",
    "> 4. Age: A idade atual do cliente, em anos, no momento em que o trimestre fiscal terminou.\n",
    "\n",
    "> 5. Under 30: Indica se o cliente tem menos de 30 anos: Sim, Não.\n",
    "\n",
    "> 6. Senior Citizen: Indica se o cliente tem 65 anos ou mais: Sim, Não. \n",
    "\n",
    "> 7. Married: Indica se o cliente é casado: Sim, Não.\n",
    "\n",
    "> 8. Dependents: Indica se o cliente vive com um dependente: Sim, Não. Os dependentes podem ser filhos, pais, avós, etc.\n",
    "\n",
    "> 9. Number of Dependents: Indica o número de dependentes que moram com o cliente."
   ]
  },
  {
   "attachments": {},
   "cell_type": "markdown",
   "metadata": {},
   "source": [
    "## 1.2) LOCATIONS\n",
    "\n",
    "> 1. Customer ID: Um ID exclusivo que identifica cada cliente.\n",
    "\n",
    "> 2. Count: Um valor usado em relatórios para resumir o número de clientes em um conjunto filtrado.\n",
    "\n",
    "> 3. Country: O país de residência principal do cliente.\n",
    "\n",
    "> 4. State: O estado da residência principal do cliente.\n",
    "\n",
    "> 5. City: A principal cidade de residência do cliente.\n",
    "\n",
    "> 6. Zip Code: O código postal da residência principal do cliente.\n",
    "\n",
    "> 7. Latitude: A latitude da residência principal do cliente.\n",
    "\n",
    "> 8. Longitude: A longitude da residência principal do cliente."
   ]
  },
  {
   "attachments": {},
   "cell_type": "markdown",
   "metadata": {},
   "source": [
    "## 1.3) POPULATIONS\n",
    "\n",
    "> 1. ID: Um ID exclusivo que identifica cada linha.\n",
    "\n",
    "> 2. Zip Code: O código postal da residência principal do cliente.\n",
    "\n",
    "> 3. Population: Uma estimativa da população atual para toda a área do código postal."
   ]
  },
  {
   "attachments": {},
   "cell_type": "markdown",
   "metadata": {},
   "source": [
    "## 1.4) SERVICES\n",
    "\n",
    "> 1. Customer ID: Um ID exclusivo que identifica cada cliente.\n",
    "\n",
    "> 2. Count: Um valor usado em relatórios para resumir o número de clientes em um conjunto filtrado.\n",
    "\n",
    "> 3. Qaurter: O trimestre fiscal do qual os dados foram derivados (por exemplo, Q3).\n",
    "\n",
    "> 4. Referred a Friend: Indica se o cliente já encaminhou um amigo ou familiar para esta empresa: Sim, Não\n",
    "\n",
    "> 5. Number of Referrals: Indica o número de referências/indicações até esta data que o cliente realizou.\n",
    "\n",
    "> 6. Tenure in Months: Indica o número total de meses em que o cliente está na empresa no final do trimestre especificado anteriormente.\n",
    "\n",
    "> 7. Offer: Identifica a última oferta de marketing que o cliente aceitou, se aplicável. Os valores incluem Nenhum, Oferta\n",
    "\n",
    "> 8. Phone Service: Indica se o cliente contrata o serviço de telefonia residencial com a empresa: Sim, Não\n",
    "\n",
    "> 9. Avg Monthly Long Distance Charges: Indica as tarifas médias de longa distância do cliente, calculadas no final do trimestre especificado anteriormente.\n",
    "\n",
    "> 10. Multiple Lines: Indica se o cliente contrata várias linhas telefônicas com a empresa: Sim, Não\n",
    "\n",
    "> 11. Internet Service: ndica se o cliente contrata o serviço de Internet com a empresa: Não, Sim\n",
    "\n",
    "> 12. Internet Type: O tipo de internet que o cliente usa DSL, Fibra Óptica, Cabo.\n",
    "\n",
    "> 13. Avg Monthly GB Download: Indica o volume médio de downloads do cliente em gigabytes, calculado no final do trimestre especificado\n",
    "\n",
    "> 14. Online Security: Indica se o cliente assina um serviço de segurança online adicional fornecido pela empresa: Sim, Não\n",
    "\n",
    "> 15. Online Backup: Indica se o cliente assina um serviço de backup online adicional fornecido pela empresa: Sim, Não\n",
    "\n",
    "> 16. Device protection Plan: Indica se o cliente assina um plano de proteção de dispositivo adicional para o equipamento de Internet fornecido \n",
    "\n",
    "> 17. Premium Tech Support: Indica se o cliente assina um plano de suporte técnico adicional da empresa com tempos de espera reduzidos\n",
    "\n",
    "> 18. Streaming TV: Indica se o cliente usa seu serviço de Internet para transmitir programação de televisão de um provedor terceirizado\n",
    "\n",
    "> 19. Streaming Movies: Indica se o cliente usa seu serviço de Internet para transmitir filmes de um provedor externo: Sim, Não. \n",
    "\n",
    "> 20. Streaming Music: Indica se o cliente usa seu serviço de Internet para transmitir música de um provedor externo: Sim, Não. A empresa não\n",
    "\n",
    "> 21. Unlimited Data: Indica se o cliente pagou uma taxa mensal adicional para ter downloads/uploads de dados ilimitados\n",
    "\n",
    "> 22. Contract: Indica o tipo de contrato atual do cliente: mês a mês, um ano, dois anos.\n",
    "\n",
    "> 23. Paperless Billing: Indica se o cliente optou pelo faturamento sem papel: Sim, Não\n",
    "\n",
    "> 24. Payment Method: Indica como o cliente paga sua fatura: Saque bancário, cartão de crédito, cheque enviado\n",
    "\n",
    "> 25. Monthly Charge: Indica a cobrança mensal total atual do cliente para todos os serviços da empresa.\n",
    "\n",
    "> 26. Total Charges: Indica os encargos totais do cliente, calculados no final do trimestre especificado anteriormente.\n",
    "\n",
    "> 27. Total Refunds: Indica o total de reembolsos do cliente, calculado no final do trimestre especificado anteriormente.\n",
    "\n",
    "> 28. Total Extra Data Charges: Indica os encargos totais do cliente para downloads de dados adicionais acima dos especificados em seu plano\n",
    "\n",
    "> 29. Total Long Distance Charges: Indica o total de tarifas de longa distância do cliente acima das especificadas em seu plano, ao final do trimestre especificado\n",
    "\n",
    "> 30. Total Revenue: Receita total"
   ]
  },
  {
   "attachments": {},
   "cell_type": "markdown",
   "metadata": {},
   "source": [
    "## 1.5) STATUS\n",
    "\n",
    "> 1. Customer ID: Um ID exclusivo que identifica cada cliente.\n",
    "\n",
    "> 2. Count: Um valor usado em relatórios para resumir o número de clientes em um conjunto filtrado.\n",
    "\n",
    "> 3. Quarter: O trimestre fiscal do qual os dados foram derivados (por exemplo, Q3).\n",
    "\n",
    "> 4. Customer Status: Indica o status do cliente no final do trimestre: Churned, Stayed ou Joined\n",
    "\n",
    "> 5. Churn Label: Sim = o cliente deixou a empresa neste trimestre. Não = o cliente permaneceu na empresa. Diretamente relacionado\n",
    "\n",
    "> 6. Churn Value: 1 = o cliente deixou a empresa neste trimestre. 0 = o cliente permaneceu na empresa. Diretamente relacionado ao Churn\n",
    "\n",
    "> 7. Churn Category: Uma categoria de alto nível para o motivo da rotatividade de clientes: Atitude, Concorrente, Insatisfação, Outros,\n",
    "\n",
    "> 8. Churn Reason: Motivo específico de um cliente para deixar a empresa. Diretamente relacionado à categoria Churn."
   ]
  },
  {
   "attachments": {},
   "cell_type": "markdown",
   "metadata": {},
   "source": [
    "# <font color='red' style='font-size: 40px;'> 2.0 Análise Exploratória </font>\n",
    "<hr style='border: 2px solid red;'>"
   ]
  },
  {
   "attachments": {},
   "cell_type": "markdown",
   "metadata": {},
   "source": [
    "### 2.1) Uma visão geral da população de clientes TELCO visando entender as características dos clientes TELCO. \n",
    "- Qual é a divisão por sexo? \n",
    "- Eles têm dependentes? \n",
    "- E as Idades? \n",
    "- E as Cidades? \n",
    "- etc."
   ]
  },
  {
   "cell_type": "code",
   "execution_count": null,
   "metadata": {},
   "outputs": [],
   "source": [
    "query = ''' \n",
    "SELECT \n",
    "SUM(CASE WHEN GENDER = 'M' THEN 1 ELSE 0 END) AS qt_masculino, \n",
    "SUM(CASE WHEN GENDER = 'F' THEN 1 ELSE 0 END) AS qt_feminino \n",
    "FROM DEMOGRAPHICS\n",
    "''' \n",
    "\n",
    "distribuicao_genero = pd.read_sql(query, conexao)\n",
    "distribuicao_genero"
   ]
  },
  {
   "attachments": {},
   "cell_type": "markdown",
   "metadata": {},
   "source": [
    "### 2.2) Uma exploração de perdas para entender melhor as suposições do Diretor sobre contratos mensais e a região de San Diego como a mais afetada. Algumas segmentações para entender a perda de clientes que saíram durante a reunião são:\n",
    "\n",
    "- Grupo 1: Contrato mes-a-mes e idade > 64\n",
    "- Grupo 2: Contrato mes-a-mes , idade < 64 e número de referências < 2\n",
    "- Grupo 3: Contrato diferente de mes-a-mes, idade > 64 e número de referências < 2\n",
    "- Grupo 4: Contrato diferente a mes-a-mes e antiguidade em meses < 40\n",
    "\n",
    "    "
   ]
  },
  {
   "attachments": {},
   "cell_type": "markdown",
   "metadata": {},
   "source": [
    "### 2.3) Identificação de clientes que são mais propensos a deixarem a empresa e, destes clientes, os que possuem alta representatividade monetária para a TELCO:\n",
    "\n",
    "- Clientes mais propensos a sair (não saíram, mas estariam em risco de sair)\n",
    "\n",
    "- Dos Clientes mais propensos, classificar os de de alto valor monetário e mandar para a CEO"
   ]
  },
  {
   "cell_type": "markdown",
   "metadata": {},
   "source": [
    "# <font color='red' style='font-size: 40px;'> 3.0 Pré-Processamento </font>\n",
    "<hr style='border: 2px solid red;'>"
   ]
  },
  {
   "cell_type": "code",
   "execution_count": null,
   "metadata": {},
   "outputs": [],
   "source": []
  },
  {
   "cell_type": "markdown",
   "metadata": {},
   "source": [
    "# <font color='red' style='font-size: 40px;'> 4.0 Modelagem I </font>\n",
    "<hr style='border: 2px solid red;'>"
   ]
  },
  {
   "cell_type": "code",
   "execution_count": null,
   "metadata": {},
   "outputs": [],
   "source": []
  },
  {
   "cell_type": "markdown",
   "metadata": {},
   "source": [
    "# <font color='red' style='font-size: 40px;'> 5.0 Modelagem II </font>\n",
    "<hr style='border: 2px solid red;'>"
   ]
  },
  {
   "cell_type": "code",
   "execution_count": null,
   "metadata": {},
   "outputs": [],
   "source": []
  },
  {
   "cell_type": "markdown",
   "metadata": {},
   "source": [
    "# <font color='red' style='font-size: 40px;'> 6.0 Consolidação dos Resultados </font>\n",
    "<hr style='border: 2px solid red;'>"
   ]
  },
  {
   "cell_type": "code",
   "execution_count": null,
   "metadata": {},
   "outputs": [],
   "source": []
  }
 ],
 "metadata": {
  "kernelspec": {
   "display_name": "base",
   "language": "python",
   "name": "python3"
  },
  "language_info": {
   "codemirror_mode": {
    "name": "ipython",
    "version": 3
   },
   "file_extension": ".py",
   "mimetype": "text/x-python",
   "name": "python",
   "nbconvert_exporter": "python",
   "pygments_lexer": "ipython3",
   "version": "3.9.12"
  },
  "orig_nbformat": 4,
  "vscode": {
   "interpreter": {
    "hash": "5a9a036f549c34521959f2e35c11282d59c2fa6997060d671aa6f29f1c44b680"
   }
  }
 },
 "nbformat": 4,
 "nbformat_minor": 2
}
